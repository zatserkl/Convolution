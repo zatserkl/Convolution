{
 "cells": [
  {
   "cell_type": "code",
   "execution_count": 5,
   "metadata": {},
   "outputs": [
    {
     "data": {
      "image/png": "[encoded data removed]",
      "text/plain": [
       "<Figure size 648x216 with 2 Axes>"
      ]
     },
     "metadata": {
      "needs_background": "light"
     },
     "output_type": "display_data"
    }
   ],
   "source": [
    "import numpy as np\n",
    "import matplotlib.pyplot as plt\n",
    "\n",
    "x = np.array([0, -1, -2, 2, 1.5, 1.5, 0.75, 0, -0.75])\n",
    "h = np.array([1, -0.5, -0.25, -0.1])\n",
    "\n",
    "plt.figure(figsize=(9, 3))\n",
    "ax1 = plt.subplot(1, 2, 1)\n",
    "plt.plot(x, 's')\n",
    "plt.grid()\n",
    "\n",
    "ax2 = plt.subplot(1, 2, 2, sharex=ax1, sharey=ax1)\n",
    "plt.plot(h, 'rs')\n",
    "plt.grid()\n",
    "\n",
    "prod_accum = np.zeros(len(x) + len(h) - 1)\n",
    "\n",
    "# for k in range(len()):\n",
    "#     subplot"
   ]
  }
 ],
 "metadata": {
  "kernelspec": {
   "display_name": "base",
   "language": "python",
   "name": "python3"
  },
  "language_info": {
   "codemirror_mode": {
    "name": "ipython",
    "version": 3
   },
   "file_extension": ".py",
   "mimetype": "text/x-python",
   "name": "python",
   "nbconvert_exporter": "python",
   "pygments_lexer": "ipython3",
   "version": "3.9.7"
  },
  "orig_nbformat": 4,
  "vscode": {
   "interpreter": {
    "hash": "0629c3dbcbb9fb6a053b19b7caba750b9fd3351d17b60580558d5316c3a4a33d"
   }
  }
 },
 "nbformat": 4,
 "nbformat_minor": 2
}
